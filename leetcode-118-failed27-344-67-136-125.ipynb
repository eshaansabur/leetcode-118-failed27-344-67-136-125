{
 "cells": [
  {
   "cell_type": "code",
   "execution_count": 1,
   "id": "024c4667-a65a-43c5-a553-af9248393b43",
   "metadata": {},
   "outputs": [
    {
     "name": "stdin",
     "output_type": "stream",
     "text": [
      "Input a number 8\n"
     ]
    }
   ],
   "source": [
    "c= input(\"Input a number\")"
   ]
  },
  {
   "cell_type": "code",
   "execution_count": 2,
   "id": "dab0ac1f-cfa3-448e-8111-f25e2802636a",
   "metadata": {},
   "outputs": [],
   "source": [
    "def generate_pascal_triangle(numRows):\n",
    "    number_of_arrays= int(numRows)\n",
    "    output_array= []\n",
    "    output_array.append([1])\n",
    "    for i in range(number_of_arrays-1):\n",
    "        row = [1]\n",
    "        for j in range(i):\n",
    "            row.append(output_array[i][j]+output_array[i][j+1])\n",
    "        row.append(1)\n",
    "        output_array.append(row)\n",
    "    return output_array"
   ]
  },
  {
   "cell_type": "code",
   "execution_count": 3,
   "id": "1eeafc57-5395-4207-b9bb-dc223fdf3a58",
   "metadata": {},
   "outputs": [
    {
     "data": {
      "text/plain": [
       "[[1],\n",
       " [1, 1],\n",
       " [1, 2, 1],\n",
       " [1, 3, 3, 1],\n",
       " [1, 4, 6, 4, 1],\n",
       " [1, 5, 10, 10, 5, 1],\n",
       " [1, 6, 15, 20, 15, 6, 1],\n",
       " [1, 7, 21, 35, 35, 21, 7, 1]]"
      ]
     },
     "execution_count": 3,
     "metadata": {},
     "output_type": "execute_result"
    }
   ],
   "source": [
    "generate_pascal_triangle(c)"
   ]
  },
  {
   "cell_type": "code",
   "execution_count": 4,
   "id": "5da83bb7-6f97-43c0-a897-1c68d977f92e",
   "metadata": {},
   "outputs": [],
   "source": [
    "nums = [3,2,2,3]\n",
    "val=3"
   ]
  },
  {
   "cell_type": "code",
   "execution_count": 5,
   "id": "2b959c59-e922-44bc-9928-c9aa924e144a",
   "metadata": {},
   "outputs": [],
   "source": [
    "def removeElement(nums, val):\n",
    "    clean_list= list(filter(lambda a: a != val, nums))\n",
    "    clean_length= len(clean_list)\n",
    "    print(clean_list)\n",
    "    return clean_length"
   ]
  },
  {
   "cell_type": "code",
   "execution_count": 6,
   "id": "571a875e-71eb-4c34-a8ba-176b42b81fe4",
   "metadata": {},
   "outputs": [
    {
     "name": "stdout",
     "output_type": "stream",
     "text": [
      "[2, 2]\n"
     ]
    },
    {
     "data": {
      "text/plain": [
       "2"
      ]
     },
     "execution_count": 6,
     "metadata": {},
     "output_type": "execute_result"
    }
   ],
   "source": [
    "removeElement(nums, val)"
   ]
  },
  {
   "cell_type": "code",
   "execution_count": 7,
   "id": "cd0fe1bf-98d9-4a86-8f7f-50cd7526fc58",
   "metadata": {},
   "outputs": [],
   "source": [
    "def removeElement2(nums, val):\n",
    "    clean_list = []\n",
    "    for num in nums:\n",
    "        if num != val:\n",
    "            clean_list.append(num)\n",
    "    print(clean_list)\n",
    "    clean_length= len(clean_list)\n",
    "    return clean_length"
   ]
  },
  {
   "cell_type": "code",
   "execution_count": 8,
   "id": "abf0dd15-807c-473e-b3b6-7a660e09ab6b",
   "metadata": {},
   "outputs": [
    {
     "name": "stdout",
     "output_type": "stream",
     "text": [
      "[2, 2]\n"
     ]
    },
    {
     "data": {
      "text/plain": [
       "2"
      ]
     },
     "execution_count": 8,
     "metadata": {},
     "output_type": "execute_result"
    }
   ],
   "source": [
    "removeElement2(nums, val)"
   ]
  },
  {
   "cell_type": "code",
   "execution_count": 9,
   "id": "33a3b499-cfe7-43ce-9430-9eb9700d0891",
   "metadata": {},
   "outputs": [
    {
     "name": "stdout",
     "output_type": "stream",
     "text": [
      "['o', 'l', 'l', 'e', 'h']\n"
     ]
    }
   ],
   "source": [
    "s = [\"h\",\"e\",\"l\",\"l\",\"o\"]\n",
    "def reverseString(s):\n",
    "    s.reverse()\n",
    "    return s\n",
    "\n",
    "print(reverseString(s))"
   ]
  },
  {
   "cell_type": "code",
   "execution_count": 10,
   "id": "341af8d6-c329-48ed-90fe-7cae76b70944",
   "metadata": {},
   "outputs": [
    {
     "data": {
      "text/plain": [
       "'10101'"
      ]
     },
     "execution_count": 10,
     "metadata": {},
     "output_type": "execute_result"
    }
   ],
   "source": [
    "a=1010\n",
    "b=1011\n",
    "def addBinary(a, b):\n",
    "    a= str(a)\n",
    "    b= str(b)\n",
    "    sum = bin(int(a, 2) + int(b, 2))[2:]\n",
    "    return sum\n",
    "addBinary(a, b)"
   ]
  },
  {
   "cell_type": "code",
   "execution_count": 11,
   "id": "0bc6a9df-561c-4ed8-a2bb-8b325f9266cf",
   "metadata": {},
   "outputs": [
    {
     "data": {
      "text/plain": [
       "4"
      ]
     },
     "execution_count": 11,
     "metadata": {},
     "output_type": "execute_result"
    }
   ],
   "source": [
    "nums_star = [4,1,2,1,2]\n",
    "def singleNumber(nums):\n",
    "    dict= {}\n",
    "    empty= []\n",
    "    for num in nums:\n",
    "        if num not in empty:\n",
    "            dict[num]=1\n",
    "            empty.append(num)\n",
    "        elif num in empty:\n",
    "            dict[num]+=1\n",
    "            empty.append(num)\n",
    "    for k, v in dict.items():\n",
    "        if v==1:\n",
    "            return k\n",
    "singleNumber(nums_star)    \n",
    "    "
   ]
  },
  {
   "cell_type": "code",
   "execution_count": 12,
   "id": "cbb5f12b-83b7-47b4-a751-4b847867e1a4",
   "metadata": {},
   "outputs": [
    {
     "data": {
      "text/plain": [
       "False"
      ]
     },
     "execution_count": 12,
     "metadata": {},
     "output_type": "execute_result"
    }
   ],
   "source": [
    "s = \"race a car\"\n",
    "def isPalindrome(s):\n",
    "    punc = '''!()-[]{};:'\"\\,<>./?`@#$%^&*_~'''\n",
    " \n",
    "    # Removing punctuations in string\n",
    "    # Using loop + punctuation string\n",
    "    for ele in s:\n",
    "        if ele in punc:\n",
    "            s = s.replace(ele, \"\")\n",
    "    s= s.lower()\n",
    "    s = s.split(\" \")\n",
    "    inorder=\"\"\n",
    "    for i in s:\n",
    "        inorder= inorder+i\n",
    "    #print(inorder)\n",
    "    outorder= inorder[::-1]\n",
    "    if inorder== outorder:\n",
    "        return True\n",
    "    else:\n",
    "        return False\n",
    "\n",
    "isPalindrome(s)"
   ]
  },
  {
   "cell_type": "code",
   "execution_count": null,
   "id": "a5125a16-a2da-4068-b406-b58bdb398aa4",
   "metadata": {},
   "outputs": [],
   "source": []
  }
 ],
 "metadata": {
  "kernelspec": {
   "display_name": "Python 3 (ipykernel)",
   "language": "python",
   "name": "python3"
  },
  "language_info": {
   "codemirror_mode": {
    "name": "ipython",
    "version": 3
   },
   "file_extension": ".py",
   "mimetype": "text/x-python",
   "name": "python",
   "nbconvert_exporter": "python",
   "pygments_lexer": "ipython3",
   "version": "3.11.7"
  }
 },
 "nbformat": 4,
 "nbformat_minor": 5
}
